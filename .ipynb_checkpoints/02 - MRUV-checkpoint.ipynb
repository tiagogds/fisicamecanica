{
 "cells": [
  {
   "cell_type": "markdown",
   "metadata": {},
   "source": [
    "<h1><center>Análise de um movimento com aceleração.</center></h1>\n",
    "<p style=\"font-size:18px;text-align:justify\">\n",
    "Nesta aula iremos verificar experimentalmente alguns aspectos de um movimento que ocorre com a influência de uma aceleração. O vídeo abaixo mostra como o movimento ocorreu:\n",
    "</p>\n"
   ]
  },
  {
   "cell_type": "code",
   "execution_count": 1,
   "metadata": {
    "code_folding": [
     0
    ],
    "collapsed": true,
    "scrolled": true
   },
   "outputs": [],
   "source": [
    "if True: \n",
    "    from IPython.display import HTML\n",
    "    import matplotlib.pyplot as plt\n",
    "    from numpy import *\n",
    "    import seaborn\n",
    "    from ipywidgets import widgets\n",
    "    import numpy as np\n",
    "    import pandas as pd\n",
    "    from IPython.core.display import HTML\n",
    "    import opencv as cv2\n",
    "    HTML(\"\"\"\n",
    "    <style>\n",
    "    .output_png {\n",
    "        display: table-cell;\n",
    "        text-align: right;\n",
    "        vertical-align: middle;\n",
    "    }\n",
    "    </style>\n",
    "    \"\"\")\n",
    "    "
   ]
  },
  {
   "cell_type": "markdown",
   "metadata": {},
   "source": [
    "<center><video width=\"640\" height=\"480\" controls src=\"02 - MRUV.mp4\" /></center>\n",
    "<p style=\"text-align:center\"><a href=\"02 - MRUV.mp4\">Link para o vídeo.</a></p>\n",
    "<p style=\"font-size:18px;text-align:justify\">\n",
    "Como é possível observar no vídeo acima, um rolinho desce uma rampa levemente inclinada partindo do repouso. Conforme o mesmo desce a rampa, sua velocidade aumenta. Abaixo, faremos um desenvolvimento teórico - prático - computacional para entender de que forma a velocidade do rolinho está variando.\n",
    "</p>\n",
    "<h2><center>Medições realizadas.</center></h2>\n",
    "<p style=\"font-size:18px;text-align:justify\">\n",
    "Para realizar a análise do movimento, devemos primeiramente escolher quais grandezas mediremos. Para este movimento, iremos medir a posição (distância do objeto até a origem da régua) e o tempo decorrido para que o objeto atinja uma determinada posição.\n",
    "De posse desses números, vamos realizar uma análise gráfica do movimento. Ná física, diferentemente da matemática, constuma-se utilizar a variável t (tempo) como variável INDEPENDENTE e a variável x (posição) como variável DEPENDENTE.\n",
    "</p>\n",
    "<p style=\"font-size:18px;text-align:justify\">\n",
    "Abaixo vão os dados medidos através do software Tracker:\n",
    "</p>"
   ]
  },
  {
   "cell_type": "code",
   "execution_count": 6,
   "metadata": {
    "code_folding": [
     0
    ]
   },
   "outputs": [
    {
     "name": "stdout",
     "output_type": "stream",
     "text": [
      "Dados Brutos:\n",
      "t (s)\tx (m)\tv(m/s)\n",
      "0.50\t0.01\t0.03\n",
      "1.00\t0.03\t0.04\n",
      "1.50\t0.05\t0.05\n",
      "2.00\t0.08\t0.07\n",
      "2.50\t0.12\t0.08\n",
      "3.00\t0.16\t0.08\n",
      "3.50\t0.20\t0.09\n",
      "4.00\t0.25\t0.10\n",
      "4.50\t0.30\t0.11\n",
      "5.00\t0.36\t0.11\n"
     ]
    }
   ],
   "source": [
    "if True:\n",
    "    t = []\n",
    "    x = []\n",
    "    vx = []\n",
    "    arq = open('02 - MRUV.dat')\n",
    "    arq = arq.read()\n",
    "    arq = arq.replace(',','.')\n",
    "    arq = arq.replace('\\t',' ')\n",
    "    arq = arq.split('\\n')\n",
    "    \n",
    "    for i in range(1,len(arq)-1):\n",
    "        l = arq[i]\n",
    "        l = l.split(' ')\n",
    "        if l[0]:\n",
    "            t.append(float(l[0]))\n",
    "            x.append(float(l[1]))\n",
    "            vx.append(float(l[2]))\n",
    "\n",
    "    t = array(t)\n",
    "    x = array(x)\n",
    "    n = len(t)\n",
    "    vx = array(vx)\n",
    "    print('Dados Brutos:')\n",
    "    print(\"t (s)\\tx (m)\\tv(m/s)\")\n",
    "    for i in range(0,len(t)):\n",
    "        print(\"%.2f\\t%.2f\\t%.2f\" %(t[i],x[i],vx[i]))"
   ]
  },
  {
   "cell_type": "code",
   "execution_count": 7,
   "metadata": {
    "code_folding": []
   },
   "outputs": [
    {
     "name": "stdout",
     "output_type": "stream",
     "text": [
      "Gráfico:\n"
     ]
    },
    {
     "data": {
      "image/png": "[encoded data removed]",
      "text/plain": [
       "<matplotlib.figure.Figure at 0x7fa9d6bccba8>"
      ]
     },
     "metadata": {},
     "output_type": "display_data"
    }
   ],
   "source": [
    "if True:\n",
    "    l1 = plt.plot(t,x,'ro',label='Medido')\n",
    "    plt.xlabel('Tempo (s)')\n",
    "    plt.ylabel('Posição (m)')\n",
    "    coef = polyfit(t,x,2)\n",
    "    fit = coef[0] * t **2 + coef[1] * t + coef[2]\n",
    "    l2 = plt.plot(t,fit,label='Teórico')\n",
    "    plt.legend()\n",
    "    plt.show()\n",
    "    print('Equação do movimento: ')\n",
    "    print('x =%.3ft + %.3f'%(coef[0],coef[1]))"
   ]
  },
  {
   "cell_type": "markdown",
   "metadata": {
    "variables": {
     " n ": "8"
    }
   },
   "source": [
    "<p style=\"font-size:18px;text-align:justify\">\n",
    "Como feito anteriormente (no estudo do movimento com velocidade constante), realizamos um ajuste linear em cima dos dados medidos.\n",
    "</p>\n",
    "<p style=\"font-size:18px;text-align:justify\">\n",
    "Se você não tem ideia alguma de qual função utilizar para fazer o gráfico dos pontos acima, tente usar a mais simples de todas,<i> i.e. </i>, uma função do primeiro grau na forma:\n",
    "</p>\n",
    "<p style=\"font-size:18px;text-align:justify\">\n",
    "\\begin{equation}\n",
    "x(t)=vt+x_0\n",
    "\\end{equation}\n",
    "</p>\n",
    "<p style=\"font-size:18px;text-align:justify\">\n",
    "onde: $x$ é a posição atual da partícula (como uma função do tempo), $v$ é o coeficiente angular (inclinação constante) da reta e $x_0$ é o coeficiente linear da reta (valor de $x$ quando $t=0$)\n",
    "</p>\n",
    "<p style=\"font-size:18px;text-align:justify\">\n",
    "O trecho de código abaixo (em python) faz um ajuste estatístico chamado de mínimos quadrados e mostra o gráfico da reta que melhor se aproxima dos pontos medidos.\n",
    "</p>"
   ]
  },
  {
   "cell_type": "code",
   "execution_count": 18,
   "metadata": {
    "code_folding": []
   },
   "outputs": [
    {
     "data": {
      "image/png": "[encoded data removed]",
      "text/plain": [
       "<matplotlib.figure.Figure at 0x7fa9d4185d68>"
      ]
     },
     "metadata": {},
     "output_type": "display_data"
    },
    {
     "name": "stdout",
     "output_type": "stream",
     "text": [
      "Equação do movimento: \n",
      "x =0.010t^2 + 0.023t - 0.002\n"
     ]
    }
   ],
   "source": [
    "if True:\n",
    "    l1 = plt.plot(t,x,'ro',label='Medido')\n",
    "    plt.xlabel('Tempo (s)')\n",
    "    plt.ylabel('Posição (m)')\n",
    "    coef = polyfit(t,x,2)\n",
    "    fit = coef[0] * t **2 + coef[1] * t + coef[2]\n",
    "    l2 = plt.plot(t,fit,label='Teórico')\n",
    "    plt.legend()\n",
    "    plt.show()\n",
    "    print('Equação do movimento: ')\n",
    "    print('x =%.3ft^2 + %.3ft - %.3f'%(coef[0],coef[1],abs(coef[2])))"
   ]
  },
  {
   "cell_type": "markdown",
   "metadata": {},
   "source": [
    "<p style=\"font-size:18px;text-align:justify\">\n",
    "Como é possível perceber, a reta se adapta bem aos pontos medidos e quando isto ocorre, dizemos que o movimento (ou o fenômeno em geral) é bem <i><b>descrito</b></i> pela equação proposta. \n",
    "</p>\n",
    "<p style=\"font-size:18px;text-align:justify\">\n",
    "O coeficiente angular $v$ é a taxa de variação da posição do objeto em relação ao tempo. Sua unidade de medida é $\\frac{m}{s}$ e possui um nome específico: <b>velocidade</b>. Para o movimento que acabamos de estudar, note que a velocidade é constante implicando que:<font color=red> O objeto percorre distâncias iguais em intervalos de tempo iguais.</font>\n",
    "</p>\n",
    "<p style=\"font-size:18px;text-align:justify\">\n",
    "Na verdade, devido ao pequeno atrito do rolinho com o ar e ao fato de o rolinho deslizar um pouco (e não apenas rolar) sobre a rampa, a velocidade dele tende a diminuir levemente com o tempo, o que pode ser evidenciado no gráfico abaixo.\n",
    "</p>"
   ]
  },
  {
   "cell_type": "code",
   "execution_count": 11,
   "metadata": {
    "code_folding": [],
    "scrolled": true
   },
   "outputs": [
    {
     "data": {
      "image/png": "[encoded data removed]",
      "text/plain": [
       "<matplotlib.figure.Figure at 0x7fa9d4337ac8>"
      ]
     },
     "metadata": {},
     "output_type": "display_data"
    },
    {
     "name": "stdout",
     "output_type": "stream",
     "text": [
      "Equação da reta encontrada: \n",
      "v = 0.019t + 0.024\n"
     ]
    }
   ],
   "source": [
    "if True:\n",
    "    l1 = plt.plot(t,vx,'ro',label='Medido')\n",
    "    plt.xlabel('Tempo (s)')\n",
    "    plt.ylabel('Velocidade (m/s)')\n",
    "    #plt.axis([0,4.1,0.05,0.12])\n",
    "    coef = polyfit(t,vx,1)\n",
    "    fit = coef[0] * t + coef[1]\n",
    "    l2 = plt.plot(t,fit, label='Teórico')\n",
    "    plt.legend()\n",
    "    plt.show()\n",
    "    print('Equação da reta encontrada: ')\n",
    "    print('v = %.3ft + %.3f'%(abs(coef[0]),coef[1]))"
   ]
  },
  {
   "cell_type": "markdown",
   "metadata": {},
   "source": [
    "<p style=\"font-size:18px;text-align:justify\">\n",
    "É claramente perceptível o fato da velocidade diminuir (reta azul). Porém, perceba que o coeficiente angular está zerado (dentro do número de casa decimais adotadas) e que o coeficiente linear é muito próximo do valor encontrado na equação para $v$. Desta forma, podemos <b>considerar</b> a velocidade do rolinho como sendo <b>constante</b> cometendo um erro aceitável.\n",
    "</p>"
   ]
  },
  {
   "cell_type": "code",
   "execution_count": null,
   "metadata": {
    "collapsed": true
   },
   "outputs": [],
   "source": []
  }
 ],
 "metadata": {
  "kernelspec": {
   "display_name": "Python 3",
   "language": "python",
   "name": "python3"
  },
  "language_info": {
   "codemirror_mode": {
    "name": "ipython",
    "version": 3
   },
   "file_extension": ".py",
   "mimetype": "text/x-python",
   "name": "python",
   "nbconvert_exporter": "python",
   "pygments_lexer": "ipython3",
   "version": "3.5.2"
  }
 },
 "nbformat": 4,
 "nbformat_minor": 2
}
